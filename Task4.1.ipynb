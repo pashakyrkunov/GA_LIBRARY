{
 "metadata": {
  "language_info": {
   "codemirror_mode": {
    "name": "ipython",
    "version": 3
   },
   "file_extension": ".py",
   "mimetype": "text/x-python",
   "name": "python",
   "nbconvert_exporter": "python",
   "pygments_lexer": "ipython3",
   "version": "3.8.5-final"
  },
  "orig_nbformat": 2,
  "kernelspec": {
   "name": "python3",
   "display_name": "Python 3",
   "language": "python"
  }
 },
 "nbformat": 4,
 "nbformat_minor": 2,
 "cells": [
  {
   "cell_type": "code",
   "execution_count": 2,
   "metadata": {},
   "outputs": [],
   "source": [
    "import numpy as np\n",
    "import pandas as pd\n",
    "import pygad"
   ]
  },
  {
   "cell_type": "code",
   "execution_count": 4,
   "metadata": {},
   "outputs": [],
   "source": [
    "df = pd.read_csv('16.txt', delimiter=' ')"
   ]
  },
  {
   "cell_type": "code",
   "execution_count": 6,
   "metadata": {},
   "outputs": [],
   "source": [
    "W = int(df.columns[0])\n",
    "V = int(df.columns[1])\n",
    "df['w'] = df.index\n",
    "data = [df['w'], df.iloc[:, 0], df.iloc[:, 1]]\n",
    "headers = [\"w\", \"v\", \"c\"]\n",
    "data = pd.concat(data, axis=1, keys=headers).values.tolist()"
   ]
  },
  {
   "cell_type": "code",
   "execution_count": 8,
   "metadata": {},
   "outputs": [],
   "source": [
    "def fitness(solution, solution_index):\n",
    "    w = 0 \n",
    "    v = 0\n",
    "    c = 0 \n",
    "    for (array, item) in zip(solution, data):\n",
    "        if array > 0:\n",
    "            w += item[0]\n",
    "            v += item[1]\n",
    "            c += item[2]\n",
    "    if w > W or v > V:\n",
    "        c = 0\n",
    "    return c"
   ]
  },
  {
   "cell_type": "code",
   "execution_count": 10,
   "metadata": {},
   "outputs": [],
   "source": [
    "ga_instance = pygad.GA(num_generations=250, \n",
    "                       num_parents_mating=2,\n",
    "                       fitness_func=fitness,\n",
    "                       sol_per_pop=35,\n",
    "                       num_genes=len(data),\n",
    "                       init_range_low=-1, \n",
    "                       init_range_high=1\n",
    "                       )"
   ]
  },
  {
   "cell_type": "code",
   "execution_count": 12,
   "metadata": {},
   "outputs": [],
   "source": [
    "ga_instance.run()\n",
    "solution, solution_fitness, solution_index = ga_instance.best_solution()"
   ]
  },
  {
   "cell_type": "code",
   "execution_count": 14,
   "metadata": {},
   "outputs": [
    {
     "output_type": "stream",
     "name": "stdout",
     "text": [
      "5.236986670924394\n1.5848035072827478\n4.44651479738384\n1.1869982030849195\n1.0744688235632327\n7.826195899583967\n3.955686348181625\n3.9798526608503035\n2.21805020454597\n3.667628514142703\n1.2192381544353432\n5.002062386942667\n1.9463235985325975\n5.276134347642276\n3.4639337191026756\n"
     ]
    }
   ],
   "source": [
    "result = []\n",
    "for i in range(0, len(data)):\n",
    "    if solution[i] > 0:\n",
    "        print(solution[i])\n",
    "        result.append(data[i])\n",
    "result_df = pd.DataFrame.from_records(result, columns=['w','v','c'])"
   ]
  },
  {
   "cell_type": "code",
   "execution_count": 16,
   "metadata": {},
   "outputs": [
    {
     "output_type": "stream",
     "name": "stdout",
     "text": [
      "         w    v      c\n0   1160.0  0.8  372.0\n1    234.0  0.6  116.0\n2   1315.0  0.5  357.0\n3    558.0  1.0  371.0\n4   1139.0  1.0  288.0\n5    151.0  0.4  286.0\n6    774.0  0.6  171.0\n7   1599.0  1.0  317.0\n8    772.0  0.9  387.0\n9    704.0  0.8  317.0\n10  1372.0  0.8  239.0\n11  1320.0  1.0  219.0\n12   378.0  1.0  217.0\n13   823.0  0.9  367.0\n14   491.0  0.6  232.0\nВес: 12790.0\nОбъем: 11.9\nЦенность: 4256.0\n"
     ]
    }
   ],
   "source": [
    "print(result_df)\n",
    "w = 0\n",
    "v = 0\n",
    "c = 0\n",
    "for i in range(0, len(result_df)):\n",
    "        w += result_df.at[i,'w']\n",
    "        v += result_df.at[i,'v']\n",
    "        c += result_df.at[i,'c']\n",
    "print(\"Вес:\", w)\n",
    "print(\"Объем:\", round(v,1))\n",
    "print(\"Ценность:\", c)"
   ]
  },
  {
   "cell_type": "code",
   "execution_count": 18,
   "metadata": {},
   "outputs": [],
   "source": [
    "file=open('4_1.txt','w', encoding='utf-8')\n",
    "file.write(result_df.to_string())\n",
    "file.write(\"\\nВес: \" + str(w) + \" (Грузоподъемноcть: \" + str(W) + \")\")\n",
    "file.write(\"\\nОбъем: \" + str(round(v,1)) + \" (Вместимость: \" + str(V) + \")\")\n",
    "file.write(\"\\nЦенность: \" + str(c))\n",
    "file.close()"
   ]
  }
 ]
}